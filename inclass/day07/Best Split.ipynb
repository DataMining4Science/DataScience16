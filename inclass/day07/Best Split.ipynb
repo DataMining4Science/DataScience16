{
 "cells": [
  {
   "cell_type": "markdown",
   "metadata": {},
   "source": [
    "## Decision Tree Learning Choosing the Best Split\n",
    "\n",
    "In this notebook you will be writing a Python function to compute the best possible split for a decision tree given some points in the x, y plane and some binary targets.\n",
    "\n",
    "For starters, we will generate a random decision tree and then plot the points.  The binary targets are noisy realizations of the true underlying decision function (with noise specified by the variable `noise`)."
   ]
  },
  {
   "cell_type": "code",
   "execution_count": 1,
   "metadata": {
    "collapsed": false
   },
   "outputs": [
    {
     "name": "stdout",
     "output_type": "stream",
     "text": [
      "if x > 53.000000:\n",
      "    if y > 142.000000:\n",
      "        if y > 338.000000:\n",
      "            if y > 396.000000:\n",
      "                if x > 392.000000:\n",
      "                    if y > 414.000000:\n",
      "                        return True\n",
      "                    else:\n",
      "                        if x > 423.000000:\n",
      "                            return False\n",
      "                        else:\n",
      "                            return True\n",
      "                else:\n",
      "                    if x > 324.000000:\n",
      "                        if x > 372.000000:\n",
      "                            return True\n",
      "                        else:\n",
      "                            return False\n",
      "                    else:\n",
      "                        if x > 246.000000:\n",
      "                            return True\n",
      "                        else:\n",
      "                            return False\n",
      "            else:\n",
      "                if x > 264.000000:\n",
      "                    return True\n",
      "                else:\n",
      "                    return False\n",
      "        else:\n",
      "            if x > 254.000000:\n",
      "                return True\n",
      "            else:\n",
      "                return False\n",
      "    else:\n",
      "        if x > 394.000000:\n",
      "            if y > 4.000000:\n",
      "                if y > 45.000000:\n",
      "                    if y > 109.000000:\n",
      "                        if x > 410.000000:\n",
      "                            return False\n",
      "                        else:\n",
      "                            return True\n",
      "                    else:\n",
      "                        return False\n",
      "                else:\n",
      "                    return False\n",
      "            else:\n",
      "                return False\n",
      "        else:\n",
      "            if y > 34.000000:\n",
      "                if x > 256.000000:\n",
      "                    return False\n",
      "                else:\n",
      "                    if x > 128.000000:\n",
      "                        if x > 142.000000:\n",
      "                            return True\n",
      "                        else:\n",
      "                            if x > 134.000000:\n",
      "                                if x > 136.000000:\n",
      "                                    if y > 76.000000:\n",
      "                                        if y > 128.000000:\n",
      "                                            if x > 137.000000:\n",
      "                                                if x > 139.000000:\n",
      "                                                    if y > 138.000000:\n",
      "                                                        return True\n",
      "                                                    else:\n",
      "                                                        return False\n",
      "                                                else:\n",
      "                                                    return True\n",
      "                                            else:\n",
      "                                                return False\n",
      "                                        else:\n",
      "                                            if y > 121.000000:\n",
      "                                                return True\n",
      "                                            else:\n",
      "                                                if x > 137.000000:\n",
      "                                                    if x > 140.000000:\n",
      "                                                        return True\n",
      "                                                    else:\n",
      "                                                        return False\n",
      "                                                else:\n",
      "                                                    return False\n",
      "                                    else:\n",
      "                                        if x > 137.000000:\n",
      "                                            return False\n",
      "                                        else:\n",
      "                                            if y > 42.000000:\n",
      "                                                return False\n",
      "                                            else:\n",
      "                                                return True\n",
      "                                else:\n",
      "                                    return True\n",
      "                            else:\n",
      "                                return False\n",
      "                    else:\n",
      "                        return False\n",
      "            else:\n",
      "                if y > 0.000000:\n",
      "                    if x > 64.000000:\n",
      "                        if y > 31.000000:\n",
      "                            if x > 125.000000:\n",
      "                                if x > 212.000000:\n",
      "                                    return False\n",
      "                                else:\n",
      "                                    return True\n",
      "                            else:\n",
      "                                return False\n",
      "                        else:\n",
      "                            if x > 91.000000:\n",
      "                                if x > 387.000000:\n",
      "                                    return True\n",
      "                                else:\n",
      "                                    return False\n",
      "                            else:\n",
      "                                return False\n",
      "                    else:\n",
      "                        return True\n",
      "                else:\n",
      "                    if x > 239.000000:\n",
      "                        return True\n",
      "                    else:\n",
      "                        return False\n",
      "else:\n",
      "    if x > 39.000000:\n",
      "        return True\n",
      "    else:\n",
      "        if y > 114.000000:\n",
      "            if y > 232.000000:\n",
      "                return False\n",
      "            else:\n",
      "                return True\n",
      "        else:\n",
      "            return False\n",
      "\n"
     ]
    },
    {
     "data": {
      "text/plain": [
       "[<matplotlib.lines.Line2D at 0x7f23f413d6d0>]"
      ]
     },
     "execution_count": 1,
     "metadata": {},
     "output_type": "execute_result"
    },
    {
     "data": {
      "image/png": "[encoded data removed]",
      "text/plain": [
       "<matplotlib.figure.Figure at 0x7f24317c6050>"
      ]
     },
     "metadata": {},
     "output_type": "display_data"
    }
   ],
   "source": [
    "%matplotlib inline\n",
    "import matplotlib.pyplot as plt\n",
    "import numpy as np\n",
    "from learn_interactive import DecisionTree, make_random_tree, canvas_dim\n",
    "from sklearn.cross_validation import train_test_split\n",
    "\n",
    "real_tree = make_random_tree()\n",
    "print real_tree\n",
    "\n",
    "n_points = 100\n",
    "noise = 0.2\n",
    "\n",
    "# generate some noisy labels\n",
    "points = np.random.randint(0, canvas_dim, (n_points, 2))\n",
    "labels = np.zeros((points.shape[0],),dtype=np.bool_)\n",
    "\n",
    "for i in range(len(labels)):\n",
    "    label, _ = real_tree.evaluate(points[i,0], points[i,1])\n",
    "    if np.random.rand() < noise:\n",
    "        label = not label\n",
    "    labels[i] = label\n",
    "\n",
    "# plot the points (blue for positive, red for negative)\n",
    "plt.plot(points[labels==1,0], points[labels==1,1],'b.')\n",
    "plt.plot(points[labels==0,0], points[labels==0,1],'r.')"
   ]
  },
  {
   "cell_type": "markdown",
   "metadata": {},
   "source": [
    "### Gini Impurity as a Metric for Best Split\n",
    "\n",
    "In order to talk about the \"best split\", we have to have some notion of what \"best\" means.  There are lots of [possible options](https://en.wikipedia.org/wiki/Decision_tree_learning).  The one we are going to examine here is called \"Gini impurity\".  The Gini impurity is a measure of the homegeneity of the points in a set.  Suppose that we have a set of $x_1, \\ldots, x_n$ with target values $y_1, \\ldots, y_n$.  For simplicity, we will assume that each of the target values $y_i \\in \\{0, 1\\}$ (i.e. it is a binary variable).  The Gini impurity of the set is defined as:\n",
    "\n",
    "\\begin{align}\n",
    "\\mbox{gini_impurity}(y_1, \\ldots, y_n) =& f_0 \\times (1 - f_0) + f_1 \\times (1 - f_1)\n",
    "\\end{align}\n",
    "\n",
    "Where $f_c = \\frac{1}{n}\\sum_{i=1}^n y_i = c$.  In otherwords $f_c$ is the proportion of points in the set that belong to class $c$.  Since we are dealing with binary target variables, $c$ in this case will either be $0$ or $1$.\n",
    "\n",
    "**Q:** What is the highest value that gini-impuritycan obtain?  What is the lowest?\n",
    "\n",
    "In order to relate this back to the concept of the best possible split to our data, consider a possible split of our data.  Specifically, we will consider splits that arise from testing one of the two attributes for each data point (x or y) and comparing it to a threshold (e.g. $x > 50$ or $y > 100$).  Let $y^{p}_1, \\ldots, y^{p}_{n_{p}}$  denote the targets for the points that passed the Boolean test, and let $y^{f}_1, \\ldots, y^{f}_{n_{f}}$ denote the targets for the points that failed the Boolean test.  The impurity of this split is given by the following formula.\n",
    "\n",
    "\\begin{align}\n",
    "\\mbox{split_impurity}(y_1, \\ldots, y_n) =& \\frac{n_p}{n}\\mbox{gini_impurity}(y^{p}_1, \\ldots, y^{p}_{n_{p}}) + \\frac{n_f}{n}\\mbox{gini_impurity}(y^{f}_1, \\ldots, y^{f}_{n_{f}})\n",
    "\\end{align}\n",
    "\n",
    "That is, the impurity of a split is a weighted combination of the Gini impurity of each resultant subset weighted by the proportion of data that is assigned to each subset.\n",
    "\n",
    "Fill out the following function stub to compute the best possible split of the data using Gini impurity as a metric."
   ]
  },
  {
   "cell_type": "code",
   "execution_count": 2,
   "metadata": {
    "collapsed": false,
    "scrolled": true
   },
   "outputs": [
    {
     "ename": "TypeError",
     "evalue": "'NoneType' object is not iterable",
     "output_type": "error",
     "traceback": [
      "\u001b[1;31m---------------------------------------------------------------------------\u001b[0m",
      "\u001b[1;31mTypeError\u001b[0m                                 Traceback (most recent call last)",
      "\u001b[1;32m<ipython-input-2-0fe865caae8f>\u001b[0m in \u001b[0;36m<module>\u001b[1;34m()\u001b[0m\n\u001b[0;32m     20\u001b[0m             \u001b[1;32mpass\u001b[0m\u001b[1;33m\u001b[0m\u001b[0m\n\u001b[0;32m     21\u001b[0m \u001b[1;33m\u001b[0m\u001b[0m\n\u001b[1;32m---> 22\u001b[1;33m \u001b[0msplit_variable\u001b[0m\u001b[1;33m,\u001b[0m \u001b[0msplit_threshold\u001b[0m \u001b[1;33m=\u001b[0m \u001b[0mbest_split\u001b[0m\u001b[1;33m(\u001b[0m\u001b[0mpoints\u001b[0m\u001b[1;33m,\u001b[0m \u001b[0mlabels\u001b[0m\u001b[1;33m)\u001b[0m\u001b[1;33m\u001b[0m\u001b[0m\n\u001b[0m\u001b[0;32m     23\u001b[0m \u001b[1;32mprint\u001b[0m \u001b[0msplit_variable\u001b[0m\u001b[1;33m,\u001b[0m \u001b[0msplit_threshold\u001b[0m\u001b[1;33m\u001b[0m\u001b[0m\n",
      "\u001b[1;31mTypeError\u001b[0m: 'NoneType' object is not iterable"
     ]
    }
   ],
   "source": [
    "def best_split(data, targets):\n",
    "    \"\"\" Find the best split for a given dataset.\n",
    "        data is an nx2 numpy array where n is the number of data points.  The first column\n",
    "        of data contains the x coordinates of the points, and the second contains the y\n",
    "        coordinates.\n",
    "        targets is an n dimensional numpy array containing the binary target values (0, 1)\n",
    "        \n",
    "        returns: a tuple consisting of the variable to split on and the threshold to split at.\n",
    "                 all splits are evaluated as variable_name > threshold.\n",
    "        \"\"\"\n",
    "    # this starter code is designed to help, but if you want to start from scratch, please\n",
    "    # go ahead.\n",
    "    best_impurity = np.inf\n",
    "    split_variable = None\n",
    "    split_threshold = None\n",
    "    variable_names = ['x', 'y']\n",
    "    for i in range(data.shape[1]):\n",
    "        for threshold in np.arange(-1.0, canvas_dim+1, 1):\n",
    "            # loop over all possible splitting variables and thresholds\n",
    "            pass\n",
    "\n",
    "split_variable, split_threshold = best_split(points, labels)\n",
    "print split_variable, split_threshold"
   ]
  },
  {
   "cell_type": "code",
   "execution_count": null,
   "metadata": {
    "collapsed": false
   },
   "outputs": [],
   "source": [
    "# visualize the best split computed above\n",
    "\n",
    "plt.plot(points[labels==1,0], points[labels==1,1],'b.')\n",
    "plt.plot(points[labels==0,0], points[labels==0,1],'r.')\n",
    "if split_variable == \"x\":\n",
    "    plt.plot([split_threshold, split_threshold], [0, canvas_dim], 'k')\n",
    "else:\n",
    "    plt.plot([0, canvas_dim],[split_threshold, split_threshold], 'k')"
   ]
  },
  {
   "cell_type": "code",
   "execution_count": null,
   "metadata": {
    "collapsed": true
   },
   "outputs": [],
   "source": []
  }
 ],
 "metadata": {
  "kernelspec": {
   "display_name": "Python 2",
   "language": "python",
   "name": "python2"
  },
  "language_info": {
   "codemirror_mode": {
    "name": "ipython",
    "version": 2
   },
   "file_extension": ".py",
   "mimetype": "text/x-python",
   "name": "python",
   "nbconvert_exporter": "python",
   "pygments_lexer": "ipython2",
   "version": "2.7.11"
  }
 },
 "nbformat": 4,
 "nbformat_minor": 0
}
