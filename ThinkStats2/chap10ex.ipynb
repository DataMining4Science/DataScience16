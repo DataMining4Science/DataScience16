{
 "cells": [
  {
   "cell_type": "markdown",
   "metadata": {},
   "source": [
    "Exercise from Think Stats, 2nd Edition (thinkstats2.com)<br>\n",
    "Allen Downey"
   ]
  },
  {
   "cell_type": "code",
   "execution_count": 1,
   "metadata": {
    "collapsed": false
   },
   "outputs": [
    {
     "name": "stdout",
     "output_type": "stream",
     "text": [
      "hi\n"
     ]
    }
   ],
   "source": [
    "%matplotlib inline"
   ]
  },
  {
   "cell_type": "markdown",
   "metadata": {},
   "source": [
    "Using the data from the BRFSS, compute the linear least squares fit for log(weight) versus height. How would you best present the estimated parameters for a model like this where one of the variables is log-transformed? If you were trying to guess someone’s weight, how much would it help to know their height? "
   ]
  },
  {
   "cell_type": "code",
   "execution_count": 2,
   "metadata": {
    "collapsed": false
   },
   "outputs": [],
   "source": [
    "import thinkstats2\n",
    "import numpy as np\n",
    "import brfss\n",
    "import pandas\n",
    "import matplotlib.pyplot as plt\n",
    "\n",
    "df = brfss.ReadBrfss()\n",
    "df = df.dropna(subset=['wtkg2', 'htm3'])\n",
    "df['logwtkg2'] = np.log10(df.wtkg2)"
   ]
  },
  {
   "cell_type": "code",
   "execution_count": 3,
   "metadata": {
    "collapsed": false
   },
   "outputs": [
    {
     "data": {
      "text/html": [
       "<div>\n",
       "<table border=\"1\" class=\"dataframe\">\n",
       "  <thead>\n",
       "    <tr style=\"text-align: right;\">\n",
       "      <th></th>\n",
       "      <th>age</th>\n",
       "      <th>sex</th>\n",
       "      <th>wtyrago</th>\n",
       "      <th>finalwt</th>\n",
       "      <th>wtkg2</th>\n",
       "      <th>htm3</th>\n",
       "      <th>logwtkg2</th>\n",
       "    </tr>\n",
       "  </thead>\n",
       "  <tbody>\n",
       "    <tr>\n",
       "      <th>count</th>\n",
       "      <td>393518.000000</td>\n",
       "      <td>395832.000000</td>\n",
       "      <td>388137.000000</td>\n",
       "      <td>395832.000000</td>\n",
       "      <td>395832.000000</td>\n",
       "      <td>395832.000000</td>\n",
       "      <td>395832.000000</td>\n",
       "    </tr>\n",
       "    <tr>\n",
       "      <th>mean</th>\n",
       "      <td>54.891207</td>\n",
       "      <td>1.612730</td>\n",
       "      <td>79.766921</td>\n",
       "      <td>562.527274</td>\n",
       "      <td>79.044413</td>\n",
       "      <td>168.956188</td>\n",
       "      <td>1.885415</td>\n",
       "    </tr>\n",
       "    <tr>\n",
       "      <th>std</th>\n",
       "      <td>16.742237</td>\n",
       "      <td>0.487127</td>\n",
       "      <td>20.574880</td>\n",
       "      <td>1076.206594</td>\n",
       "      <td>19.547890</td>\n",
       "      <td>10.390752</td>\n",
       "      <td>0.103207</td>\n",
       "    </tr>\n",
       "    <tr>\n",
       "      <th>min</th>\n",
       "      <td>18.000000</td>\n",
       "      <td>1.000000</td>\n",
       "      <td>22.727273</td>\n",
       "      <td>1.695143</td>\n",
       "      <td>20.000000</td>\n",
       "      <td>61.000000</td>\n",
       "      <td>1.301030</td>\n",
       "    </tr>\n",
       "    <tr>\n",
       "      <th>25%</th>\n",
       "      <td>43.000000</td>\n",
       "      <td>1.000000</td>\n",
       "      <td>64.545455</td>\n",
       "      <td>97.241254</td>\n",
       "      <td>64.550000</td>\n",
       "      <td>163.000000</td>\n",
       "      <td>1.809896</td>\n",
       "    </tr>\n",
       "    <tr>\n",
       "      <th>50%</th>\n",
       "      <td>55.000000</td>\n",
       "      <td>2.000000</td>\n",
       "      <td>77.272727</td>\n",
       "      <td>234.914579</td>\n",
       "      <td>77.270000</td>\n",
       "      <td>168.000000</td>\n",
       "      <td>1.888011</td>\n",
       "    </tr>\n",
       "    <tr>\n",
       "      <th>75%</th>\n",
       "      <td>67.000000</td>\n",
       "      <td>2.000000</td>\n",
       "      <td>90.909091</td>\n",
       "      <td>593.585278</td>\n",
       "      <td>90.910000</td>\n",
       "      <td>178.000000</td>\n",
       "      <td>1.958612</td>\n",
       "    </tr>\n",
       "    <tr>\n",
       "      <th>max</th>\n",
       "      <td>99.000000</td>\n",
       "      <td>2.000000</td>\n",
       "      <td>342.272727</td>\n",
       "      <td>60995.111700</td>\n",
       "      <td>300.000000</td>\n",
       "      <td>236.000000</td>\n",
       "      <td>2.477121</td>\n",
       "    </tr>\n",
       "  </tbody>\n",
       "</table>\n",
       "</div>"
      ],
      "text/plain": [
       "                 age            sex        wtyrago        finalwt  \\\n",
       "count  393518.000000  395832.000000  388137.000000  395832.000000   \n",
       "mean       54.891207       1.612730      79.766921     562.527274   \n",
       "std        16.742237       0.487127      20.574880    1076.206594   \n",
       "min        18.000000       1.000000      22.727273       1.695143   \n",
       "25%        43.000000       1.000000      64.545455      97.241254   \n",
       "50%        55.000000       2.000000      77.272727     234.914579   \n",
       "75%        67.000000       2.000000      90.909091     593.585278   \n",
       "max        99.000000       2.000000     342.272727   60995.111700   \n",
       "\n",
       "               wtkg2           htm3       logwtkg2  \n",
       "count  395832.000000  395832.000000  395832.000000  \n",
       "mean       79.044413     168.956188       1.885415  \n",
       "std        19.547890      10.390752       0.103207  \n",
       "min        20.000000      61.000000       1.301030  \n",
       "25%        64.550000     163.000000       1.809896  \n",
       "50%        77.270000     168.000000       1.888011  \n",
       "75%        90.910000     178.000000       1.958612  \n",
       "max       300.000000     236.000000       2.477121  "
      ]
     },
     "execution_count": 3,
     "metadata": {},
     "output_type": "execute_result"
    }
   ],
   "source": [
    "df.describe()"
   ]
  },
  {
   "cell_type": "code",
   "execution_count": 15,
   "metadata": {
    "collapsed": false
   },
   "outputs": [
    {
     "name": "stdout",
     "output_type": "stream",
     "text": [
      "Intercept: 0.993080416392\n",
      "Slope: 0.00528145416942\n"
     ]
    }
   ],
   "source": [
    "inter, slope = thinkstats2.LeastSquares(df.htm3,df.logwtkg2)\n",
    "print \"Intercept: \" + str(inter)\n",
    "print \"Slope: \" + str(slope)\n",
    "\n",
    "fit_xs, fit_ys = thinkstats2.FitLine(df.htm3, inter, slope)"
   ]
  },
  {
   "cell_type": "markdown",
   "metadata": {},
   "source": [
    "I think that re-transforming the data back into their original units is probably the best way to visually present the results. "
   ]
  },
  {
   "cell_type": "code",
   "execution_count": 14,
   "metadata": {
    "collapsed": false
   },
   "outputs": [
    {
     "data": {
      "text/plain": [
       "<matplotlib.text.Text at 0x7f7dd93a70d0>"
      ]
     },
     "execution_count": 14,
     "metadata": {},
     "output_type": "execute_result"
    },
    {
     "data": {
      "image/png": "[encoded data removed]",
      "text/plain": [
       "<matplotlib.figure.Figure at 0x7f7dd97c9e10>"
      ]
     },
     "metadata": {},
     "output_type": "display_data"
    }
   ],
   "source": [
    "plt.plot(fit_xs, np.power(10, fit_ys),'r')\n",
    "plt.scatter(df.htm3,df.wtkg2)\n",
    "plt.ylabel('Weight (kg)')\n",
    "plt.xlabel('Height')"
   ]
  },
  {
   "cell_type": "code",
   "execution_count": 16,
   "metadata": {
    "collapsed": true
   },
   "outputs": [],
   "source": [
    "resid = thinkstats2.Residuals(df.htm3, df.logwtkg2, inter, slope)"
   ]
  },
  {
   "cell_type": "code",
   "execution_count": 17,
   "metadata": {
    "collapsed": false
   },
   "outputs": [
    {
     "name": "stdout",
     "output_type": "stream",
     "text": [
      "RMSE (Without knowing height):  0.1032072503\n",
      "RMSE (With knowing height):  0.0874077708042\n",
      "\n",
      "R-squared:  0.282734943119\n"
     ]
    }
   ],
   "source": [
    "print 'RMSE (Without knowing height): ', thinkstats2.Std(df.logwtkg2)\n",
    "print 'RMSE (With knowing height): ', thinkstats2.Std(resid)\n",
    "print\n",
    "print 'R-squared: ', thinkstats2.CoefDetermination(df.logwtkg2, resid)"
   ]
  },
  {
   "cell_type": "markdown",
   "metadata": {},
   "source": [
    "A person's height accounts for 28% of the variance in their weight"
   ]
  },
  {
   "cell_type": "markdown",
   "metadata": {},
   "source": [
    "## Clarifying Questions\n",
    "\n",
    "Use this space to ask questions regarding the content covered in the reading. These questions should be restricted to helping you better understand the material. For questions that push beyond what is in the reading, use the next answer field. If you don't have a fully formed question, but are generally having a difficult time with a topic, you can indicate that here as well."
   ]
  },
  {
   "cell_type": "markdown",
   "metadata": {},
   "source": [
    "I found this chapter's notebook to be harder than previous. I think that the question asked was helped very much by the reading. It also took me longer than it should have to figure out how to read in the data."
   ]
  },
  {
   "cell_type": "markdown",
   "metadata": {},
   "source": [
    "## Enrichment Questions\n",
    "\n",
    "Use this space to ask any questions that go beyond (but are related to) the material presented in this reading. Perhaps there is a particular topic you'd like to see covered in more depth. Perhaps you'd like to know how to use a library in a way that wasn't show in the reading. One way to think about this is what additional topics would you want covered in the next class (or addressed in a followup e-mail to the class). I'm a little fuzzy on what stuff will likely go here, so we'll see how things evolve."
   ]
  },
  {
   "cell_type": "markdown",
   "metadata": {},
   "source": []
  },
  {
   "cell_type": "markdown",
   "metadata": {},
   "source": [
    "## Additional Resources / Explorations\n",
    "\n",
    "If you found any useful resources, or tried some useful exercises that you'd like to report please do so here. Let us know what you did, what you learned, and how others can replicate it."
   ]
  },
  {
   "cell_type": "markdown",
   "metadata": {},
   "source": []
  }
 ],
 "metadata": {
  "kernelspec": {
   "display_name": "Python 2",
   "language": "python",
   "name": "python2"
  },
  "language_info": {
   "codemirror_mode": {
    "name": "ipython",
    "version": 2
   },
   "file_extension": ".py",
   "mimetype": "text/x-python",
   "name": "python",
   "nbconvert_exporter": "python",
   "pygments_lexer": "ipython2",
   "version": "2.7.11"
  }
 },
 "nbformat": 4,
 "nbformat_minor": 0
}
